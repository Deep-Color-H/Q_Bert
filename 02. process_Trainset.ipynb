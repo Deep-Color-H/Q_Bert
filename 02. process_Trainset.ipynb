{
 "cells": [
  {
   "cell_type": "markdown",
   "metadata": {},
   "source": [
    "## Library"
   ]
  },
  {
   "cell_type": "code",
   "execution_count": 1,
   "metadata": {},
   "outputs": [
    {
     "name": "stdout",
     "output_type": "stream",
     "text": [
      "importing Jupyter notebook from C:\\Users\\LGCNS\\Documents\\GitHub\\Q_Bert\\QBert\\QDataWriter.ipynb\n"
     ]
    }
   ],
   "source": [
    "import numpy as np\n",
    "import tensorflow as tf\n",
    "from copy import deepcopy\n",
    "\n",
    "from transformers import BertTokenizerFast\n",
    "import random\n",
    "\n",
    "import pickle\n",
    "from tqdm.notebook import tqdm\n",
    "\n",
    "import import_ipynb\n",
    "from QBert.QDataWriter import *\n",
    "\n",
    "def load_pkl(file_path) :\n",
    "    \n",
    "    with open(file_path, 'rb') as f:\n",
    "        df = pickle.load(f)\n",
    "        \n",
    "    return df\n",
    "\n",
    "def save_pkl(df, file_path) :\n",
    "    \n",
    "    with open(file_path, 'wb') as f:\n",
    "        pickle.dump(df, f)\n",
    "        "
   ]
  },
  {
   "cell_type": "raw",
   "metadata": {},
   "source": [
    "원 Bert Code에 의하면\n",
    "\n",
    "\n",
    "# Traning Instance Parameter들은\n",
    "  - input_files : txt 파일명 목록\n",
    "          # Input file format:\n",
    "          # (1) One sentence per line. These should ideally be actual sentences, not\n",
    "          # entire paragraphs or arbitrary spans of text. (Because we use the\n",
    "          # sentence boundaries for the \"next sentence prediction\" task).\n",
    "          # (2) Blank lines between documents. Document boundaries are needed so\n",
    "          # that the \"next sentence prediction\" task doesn't span between documents.\n",
    "  - tokenizer : Tokenizer\n",
    "  - FLAGS.max_seq_length : 최대 문장 길이\n",
    "  - FLAGS.dupe_factor : Duplicate Factor, \n",
    "  - FLAGS.short_seq_prob : ??\n",
    "  - FLAGS.masked_lm_prob : MLM을 위한 MASK 확률\n",
    "  - FLAGS.max_predictions_per_seq : 한 번에 예측할 MASK 개수\n",
    "  - rng : ??\n",
    "  - FLAGS.do_whole_word_mask : Bert 기능 중 하나, WordPiece로 나뉜 단어 중 사람의 인지하에 있는 단어는 연속으로 MASK할 것인지\n",
    "  - FLAGS.max_ngram_size : ??"
   ]
  },
  {
   "cell_type": "code",
   "execution_count": 11,
   "metadata": {},
   "outputs": [
    {
     "name": "stderr",
     "output_type": "stream",
     "text": [
      "Calling BertTokenizerFast.from_pretrained() with the path to a single file or url is deprecated\n"
     ]
    }
   ],
   "source": [
    "\n",
    "\n",
    "file_path = ['./dt/wiki_ko_dict_sample.pkl']\n",
    "output_files = ['./Test_Examples.tfrecords']\n",
    "\n",
    "tokenizer_for_load = BertTokenizerFast.from_pretrained('./model/BertTokenizer-3000-32000-vocab.txt'\n",
    "                                                   , strip_accents=False\n",
    "                                                   , lowercase=False)\n",
    "\n",
    "max_seq_length = 256\n",
    "dupe_factor = 2\n",
    "short_seq_prob = .15\n",
    "masked_lm_prob = .15\n",
    "max_predictions_per_seq = 255\n",
    "seed = 719\n",
    "rng = random.Random(seed)\n",
    "\n",
    "\n",
    "instances = create_training_instances(input_files=file_path\n",
    "                                    , tokenizer = tokenizer_for_load\n",
    "                                    , max_seq_length = max_seq_length\n",
    "                                    , dupe_factor = dupe_factor\n",
    "                                    , short_seq_prob = short_seq_prob\n",
    "                                    , masked_lm_prob = masked_lm_prob\n",
    "                                    , max_predictions_per_seq = max_predictions_per_seq\n",
    "                                    , rng = rng)"
   ]
  },
  {
   "cell_type": "code",
   "execution_count": 12,
   "metadata": {},
   "outputs": [],
   "source": [
    "write_instance_to_example_files(instances = instances\n",
    "                                , tokenizer =  tokenizer_for_load\n",
    "                                , max_seq_length = max_seq_length\n",
    "                                , max_predictions_per_seq = max_predictions_per_seq\n",
    "                                , output_files = output_files\n",
    "                                , gzip_compress = False\n",
    "                                , use_v2_feature_names = False)"
   ]
  },
  {
   "cell_type": "code",
   "execution_count": 13,
   "metadata": {},
   "outputs": [
    {
     "data": {
      "text/plain": [
       "<TFRecordDatasetV2 shapes: (), types: tf.string>"
      ]
     },
     "execution_count": 13,
     "metadata": {},
     "output_type": "execute_result"
    }
   ],
   "source": [
    "filenames = ['./Test_Examples.tfrecords']\n",
    "raw_dataset = tf.data.TFRecordDataset(filenames)\n",
    "raw_dataset"
   ]
  },
  {
   "cell_type": "code",
   "execution_count": 14,
   "metadata": {},
   "outputs": [],
   "source": [
    "# Create a description of the features.\n",
    "feature_description = {\n",
    "    'input_ids': tf.io.FixedLenFeature([256], tf.int64),\n",
    "    'segment_ids': tf.io.FixedLenFeature([256], tf.int64),\n",
    "    'input_mask': tf.io.FixedLenFeature([256], tf.int64),\n",
    "    'masked_lm_positions': tf.io.FixedLenFeature([255], tf.int64),\n",
    "    'masked_lm_ids': tf.io.FixedLenFeature([255], tf.int64),\n",
    "    'masked_lm_weights': tf.io.FixedLenFeature([255], tf.float32),\n",
    "    'next_sentence_labels': tf.io.FixedLenFeature([1], tf.int64),\n",
    "}\n",
    "\n",
    "def _parse_function(example_proto):\n",
    "  # Parse the input `tf.train.Example` proto using the dictionary above.\n",
    "  return tf.io.parse_single_example(example_proto, feature_description)"
   ]
  },
  {
   "cell_type": "code",
   "execution_count": 15,
   "metadata": {},
   "outputs": [
    {
     "data": {
      "text/plain": [
       "<MapDataset shapes: {input_ids: (256,), input_mask: (256,), masked_lm_ids: (255,), masked_lm_positions: (255,), masked_lm_weights: (255,), next_sentence_labels: (1,), segment_ids: (256,)}, types: {input_ids: tf.int64, input_mask: tf.int64, masked_lm_ids: tf.int64, masked_lm_positions: tf.int64, masked_lm_weights: tf.float32, next_sentence_labels: tf.int64, segment_ids: tf.int64}>"
      ]
     },
     "execution_count": 15,
     "metadata": {},
     "output_type": "execute_result"
    }
   ],
   "source": [
    "parsed_dataset = raw_dataset.map(_parse_function)\n",
    "parsed_dataset"
   ]
  },
  {
   "cell_type": "code",
   "execution_count": 16,
   "metadata": {},
   "outputs": [],
   "source": [
    "siz = 0\n",
    "for raw_record in parsed_dataset.batch(1):\n",
    "    continue"
   ]
  },
  {
   "cell_type": "code",
   "execution_count": null,
   "metadata": {},
   "outputs": [],
   "source": []
  }
 ],
 "metadata": {
  "kernelspec": {
   "display_name": "Python 3",
   "language": "python",
   "name": "python3"
  },
  "language_info": {
   "codemirror_mode": {
    "name": "ipython",
    "version": 3
   },
   "file_extension": ".py",
   "mimetype": "text/x-python",
   "name": "python",
   "nbconvert_exporter": "python",
   "pygments_lexer": "ipython3",
   "version": "3.7.0"
  }
 },
 "nbformat": 4,
 "nbformat_minor": 2
}

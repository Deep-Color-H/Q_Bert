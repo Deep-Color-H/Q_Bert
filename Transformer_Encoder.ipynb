{
 "cells": [
  {
   "cell_type": "markdown",
   "metadata": {
    "id": "reg0dsW-IpDc"
   },
   "source": [
    "My Transformer\n",
    "\n",
    "21/05/18\n",
    "\n",
    "한규인 "
   ]
  },
  {
   "cell_type": "markdown",
   "metadata": {
    "id": "Xo-so1MnP9q6"
   },
   "source": [
    "## Library Import"
   ]
  },
  {
   "cell_type": "code",
   "execution_count": null,
   "metadata": {
    "id": "fu9aGTw2I1O1"
   },
   "outputs": [],
   "source": [
    "import numpy as np\n",
    "import tensorflow as tf\n",
    "\n",
    "import matplotlib.pyplot as plt"
   ]
  },
  {
   "cell_type": "markdown",
   "metadata": {
    "id": "5azpLZMGQB_l"
   },
   "source": [
    "## Function Define"
   ]
  },
  {
   "cell_type": "code",
   "execution_count": null,
   "metadata": {
    "id": "s1nC1I-vJ4y_"
   },
   "outputs": [],
   "source": [
    "# query, key, value를 이용해서 self_attention을 구하고, 최종 Output을 계산합니다.\n",
    "\n",
    "def scaled_dot_product_attention(query, key, value, mask) :\n",
    "\n",
    "    # Query : (batch_size, n_head, n_seq, query_dimension)\n",
    "    # Key   : (batch_size, n_head, n_seq, key_dimension) # Key와 Query Dimension은 같습니다.\n",
    "    # Value : (batch_size, n_head, n_seq, value_dimension) # Value Dimension은 위 Dimension과 다를 수 있습니다.\n",
    "\n",
    "    # Key Vector 차원을 구합니다.\n",
    "    d_k = tf.cast(tf.shape(key)[-1], dtype = tf.float32)\n",
    "    \n",
    "    # Query 와 Key Vector의 dot product를 구합니다. ( batch_size, n_head, n_seq, n_seq )\n",
    "    # 해당 결과를 Key Vector 차원의 제곱으로 나눕니다. (Scaled)\n",
    "    dot_product = tf.matmul(query, key, transpose_b = True) / tf.math.sqrt(d_k)\n",
    "    \n",
    "    # Mask가 존재한다면, Masking 하는 부분에 굉장히 작은 수를 넣어서 Softmax의 결과값이 0이 되게 합니다. \n",
    "    # Attention이 존재하면 안된다는 명시적 의미\n",
    "    if mask is not None :\n",
    "        dot_product += mask * -1e9\n",
    "\n",
    "    # Attention Weight를 구하고\n",
    "    attention_weight = tf.nn.softmax(dot_product)\n",
    "    \n",
    "    # Value에 Dot Product해서 구합니다. (Elementwise 곱이 아님 !)\n",
    "    output = tf.matmul(attention_weight, value)\n",
    "\n",
    "    return output, attention_weight"
   ]
  },
  {
   "cell_type": "code",
   "execution_count": null,
   "metadata": {
    "id": "clfXs9-WL20U"
   },
   "outputs": [],
   "source": [
    "class MultiHeadAttention(tf.keras.layers.Layer) :\n",
    "\n",
    "    def __init__(self, d_model, num_head, name = 'multi_head_attention') :\n",
    "\n",
    "        super(MultiHeadAttention, self).__init__(name = name)\n",
    "        \n",
    "        self.num_head = num_head\n",
    "        self.d_model = d_model\n",
    "        self.depth = d_model // self.num_head\n",
    "        # self.output = d_v * self.num_head\n",
    "\n",
    "        self.w_q = tf.keras.layers.Dense(d_model)\n",
    "        self.w_k = tf.keras.layers.Dense(d_model)\n",
    "        self.w_v = tf.keras.layers.Dense(d_model)\n",
    "\n",
    "        self.dense = tf.keras.layers.Dense(units=d_model)\n",
    "\n",
    "    def split_head(self, inputs, batch_size) :\n",
    "\n",
    "        inputs = tf.reshape(inputs, [batch_size, -1, self.num_head, self.depth])\n",
    "\n",
    "        return tf.transpose(inputs, perm = [0, 2, 1, 3])\n",
    "\n",
    "\n",
    "    def call(self, inputs):\n",
    "        query, key, value, mask = inputs['query'], inputs['key'], inputs['value'], inputs['mask']\n",
    "        batch_size = tf.shape(query)[0]\n",
    "\n",
    "        q = self.w_q(query)\n",
    "        k = self.w_k(key)\n",
    "        v = self.w_v(value)        \n",
    "\n",
    "\n",
    "        q = self.split_head(q, batch_size)\n",
    "        k = self.split_head(k, batch_size)\n",
    "        v = self.split_head(v, batch_size)\n",
    "\n",
    "        outputs, _ = scaled_dot_product_attention(q, k, v, mask)\n",
    "        concat_attention = tf.reshape(outputs, (batch_size, -1, self.d_model))\n",
    "        outputs = self.dense(concat_attention)\n",
    "        return outputs"
   ]
  },
  {
   "cell_type": "code",
   "execution_count": null,
   "metadata": {
    "id": "dWmQC4xqLWpb"
   },
   "outputs": [],
   "source": [
    "def encoder_layer(dff, d_model, num_heads, dropout, name = 'encoder_layer') :\n",
    "\n",
    "    inputs = tf.keras.Input(shape=(None, d_model), name = 'inputs')\n",
    "\n",
    "    padding_mask = tf.keras.Input(shape = (1, 1, None), name = 'padding_mask')\n",
    "\n",
    "    attention = MultiHeadAttention(d_model = d_model, num_head = num_heads)({\n",
    "        'query' : inputs, 'key' : inputs, 'value' : inputs,\n",
    "        'mask': padding_mask\n",
    "    })\n",
    "\n",
    "    attention = tf.keras.layers.Dropout(rate=dropout)(attention)\n",
    "    attention = tf.keras.layers.LayerNormalization(epsilon=1e-6)(inputs + attention)\n",
    "\n",
    "    outputs = tf.keras.layers.Dense(units = dff, activation = 'relu')(attention)\n",
    "    outputs = tf.keras.layers.Dense(units = d_model)(outputs)\n",
    "\n",
    "    outputs = tf.keras.layers.Dropout(rate=dropout)(outputs)\n",
    "    outputs = tf.keras.layers.LayerNormalization(epsilon = 1e-6)(attention + outputs)\n",
    "\n",
    "    return tf.keras.Model(inputs = [inputs, padding_mask], outputs = outputs, name = name)"
   ]
  },
  {
   "cell_type": "code",
   "execution_count": null,
   "metadata": {
    "id": "ZUaqmYfU63Mm"
   },
   "outputs": [],
   "source": [
    "\n",
    "class PositionalEncoding(tf.keras.layers.Layer) :\n",
    "\n",
    "    def __init__(self, position, d_model):\n",
    "        super(PositionalEncoding, self).__init__()\n",
    "        self.pos_encoding = self.positional_encoding(position, d_model)\n",
    "\n",
    "        \n",
    "\n",
    "    def get_angles(self, position, i, d_model) :\n",
    "        angles = 1 / tf.pow(10000, (2 * (i//2)) / tf.cast(d_model, tf.float32))\n",
    "        return position * angles\n",
    "\n",
    "\n",
    "    def positional_encoding(self, position, d_model) :\n",
    "\n",
    "        angle_rads = self.get_angles(\n",
    "            position = tf.range(position, dtype = tf.float32)[:, tf.newaxis],\n",
    "            i = tf.range(d_model, dtype = tf.float32)[tf.newaxis, :],\n",
    "            d_model = d_model\n",
    "        )\n",
    "\n",
    "        sines = tf.math.sin(angle_rads[:, 0::2])\n",
    "        cosines = tf.math.cos(angle_rads[:, 1::2])\n",
    "\n",
    "        angle_rads = np.zeros(angle_rads.shape)\n",
    "        angle_rads[:, 0::2] = sines\n",
    "        angle_rads[:, 1::2] = cosines\n",
    "\n",
    "        pos_encoding = tf.constant(angle_rads)\n",
    "        pos_encoding = pos_encoding[tf.newaxis, ...]\n",
    "\n",
    "        return tf.cast(pos_encoding, tf.float32)\n",
    "\n",
    "    def call(self, inputs) :\n",
    "        return inputs + self.pos_encoding[:, :tf.shape(inputs)[1], :]\n"
   ]
  },
  {
   "cell_type": "code",
   "execution_count": null,
   "metadata": {
    "id": "P6uThVu64X5x"
   },
   "outputs": [],
   "source": [
    "def encoder(vocab_size, num_layers, dff, d_model, num_heads, dropout, name = 'encoder'):\n",
    "\n",
    "    input = tf.keras.layers.Input(shape = (None, ), name = 'inputs')\n",
    "\n",
    "    padding_mask = tf.keras.Input(shape = (1, 1, None), name = 'padding_mask')\n",
    "\n",
    "    embeddings = tf.keras.layers.Embedding(vocab_size, d_model)(input)\n",
    "    embeddings *= tf.math.sqrt(tf.cast(d_model, tf.float32))\n",
    "    embeddings = PositionalEncoding(vocab_size, d_model)(embeddings)\n",
    "    outputs = tf.keras.layers.Dropout(rate = dropout)(embeddings)\n",
    "\n",
    "\n",
    "    for i in range(num_layers) :\n",
    "\n",
    "        outputs = encoder_layer(dff = dff\n",
    "                                , d_model=d_model\n",
    "                                , num_heads = num_heads\n",
    "                                , dropout = dropout\n",
    "                                , name = 'encoding_layer_{}'.format(i))([outputs, padding_mask])\n",
    "\n",
    "    return tf.keras.Model(inputs = [input, padding_mask], outputs = outputs, name = name)\n",
    "\n",
    "\n"
   ]
  },
  {
   "cell_type": "code",
   "execution_count": null,
   "metadata": {
    "id": "NafUvseyFLAk"
   },
   "outputs": [],
   "source": [
    "def create_padding_mask(x):\n",
    "    mask = tf.cast(tf.math.equal(x, 0), tf.float32)\n",
    "    # (batch_size, 1, 1, key의 문장 길이)\n",
    "    return mask[:, tf.newaxis, tf.newaxis, :]"
   ]
  },
  {
   "cell_type": "code",
   "execution_count": null,
   "metadata": {
    "colab": {
     "base_uri": "https://localhost:8080/"
    },
    "executionInfo": {
     "elapsed": 740,
     "status": "ok",
     "timestamp": 1621314594859,
     "user": {
      "displayName": "NAVY_LIGHTS Q",
      "photoUrl": "https://lh3.googleusercontent.com/a-/AOh14Gi6Piv3pw8kuU3FwG96XJr1Utla0LhE59_h-rbnBQ=s64",
      "userId": "05414969994838022364"
     },
     "user_tz": -540
    },
    "id": "vBJGMD5Hu2P9",
    "outputId": "ec1fe57f-98e4-49e3-8a42-9ff7b8bfe237"
   },
   "outputs": [
    {
     "name": "stdout",
     "output_type": "stream",
     "text": [
      "Tensor(\"multi_head_attention/Shape_2:0\", shape=(4,), dtype=int32)\n"
     ]
    }
   ],
   "source": [
    "encoder = encoder_layer(256, 64, 8, 0.2)"
   ]
  },
  {
   "cell_type": "code",
   "execution_count": null,
   "metadata": {
    "colab": {
     "base_uri": "https://localhost:8080/"
    },
    "executionInfo": {
     "elapsed": 576,
     "status": "ok",
     "timestamp": 1621314601260,
     "user": {
      "displayName": "NAVY_LIGHTS Q",
      "photoUrl": "https://lh3.googleusercontent.com/a-/AOh14Gi6Piv3pw8kuU3FwG96XJr1Utla0LhE59_h-rbnBQ=s64",
      "userId": "05414969994838022364"
     },
     "user_tz": -540
    },
    "id": "CKQsN9u134A5",
    "outputId": "608da431-3ddc-440f-9cb7-7dcc49e58bd3"
   },
   "outputs": [
    {
     "name": "stdout",
     "output_type": "stream",
     "text": [
      "Model: \"encoder_layer\"\n",
      "__________________________________________________________________________________________________\n",
      "Layer (type)                    Output Shape         Param #     Connected to                     \n",
      "==================================================================================================\n",
      "inputs (InputLayer)             [(None, None, 64)]   0                                            \n",
      "__________________________________________________________________________________________________\n",
      "padding_mask (InputLayer)       [(None, 1, 1, None)] 0                                            \n",
      "__________________________________________________________________________________________________\n",
      "multi_head_attention (MultiHead (None, None, 64)     8320        inputs[0][0]                     \n",
      "                                                                 padding_mask[0][0]               \n",
      "                                                                 inputs[0][0]                     \n",
      "                                                                 inputs[0][0]                     \n",
      "__________________________________________________________________________________________________\n",
      "dropout (Dropout)               (None, None, 64)     0           multi_head_attention[0][0]       \n",
      "__________________________________________________________________________________________________\n",
      "tf.__operators__.add (TFOpLambd (None, None, 64)     0           inputs[0][0]                     \n",
      "                                                                 dropout[0][0]                    \n",
      "__________________________________________________________________________________________________\n",
      "layer_normalization (LayerNorma (None, None, 64)     128         tf.__operators__.add[0][0]       \n",
      "__________________________________________________________________________________________________\n",
      "dense_20 (Dense)                (None, None, 256)    16640       layer_normalization[0][0]        \n",
      "__________________________________________________________________________________________________\n",
      "dense_21 (Dense)                (None, None, 64)     16448       dense_20[0][0]                   \n",
      "__________________________________________________________________________________________________\n",
      "dropout_1 (Dropout)             (None, None, 64)     0           dense_21[0][0]                   \n",
      "__________________________________________________________________________________________________\n",
      "tf.__operators__.add_1 (TFOpLam (None, None, 64)     0           layer_normalization[0][0]        \n",
      "                                                                 dropout_1[0][0]                  \n",
      "__________________________________________________________________________________________________\n",
      "layer_normalization_1 (LayerNor (None, None, 64)     128         tf.__operators__.add_1[0][0]     \n",
      "==================================================================================================\n",
      "Total params: 41,664\n",
      "Trainable params: 41,664\n",
      "Non-trainable params: 0\n",
      "__________________________________________________________________________________________________\n"
     ]
    }
   ],
   "source": [
    "encoder.summary()"
   ]
  },
  {
   "cell_type": "code",
   "execution_count": null,
   "metadata": {
    "colab": {
     "base_uri": "https://localhost:8080/",
     "height": 283
    },
    "executionInfo": {
     "elapsed": 966,
     "status": "ok",
     "timestamp": 1621315973894,
     "user": {
      "displayName": "NAVY_LIGHTS Q",
      "photoUrl": "https://lh3.googleusercontent.com/a-/AOh14Gi6Piv3pw8kuU3FwG96XJr1Utla0LhE59_h-rbnBQ=s64",
      "userId": "05414969994838022364"
     },
     "user_tz": -540
    },
    "id": "2LlqPeOV8_YI",
    "outputId": "5b81c81b-6eca-4bb1-faeb-af6cafee0053"
   },
   "outputs": [
    {
     "data": {
      "image/png": "[encoded data removed]",
      "text/plain": [
       "<Figure size 432x288 with 2 Axes>"
      ]
     },
     "metadata": {
      "needs_background": "light",
      "tags": []
     },
     "output_type": "display_data"
    }
   ],
   "source": [
    "# 문장의 길이 50, 임베딩 벡터의 차원 128\n",
    "sample_pos_encoding = PositionalEncoding(50, 128)\n",
    "\n",
    "plt.pcolormesh(sample_pos_encoding.pos_encoding.numpy()[0], cmap='RdBu')\n",
    "plt.xlabel('Depth')\n",
    "plt.xlim((0, 128))\n",
    "plt.ylabel('Position')\n",
    "plt.colorbar()\n",
    "plt.show()"
   ]
  },
  {
   "cell_type": "code",
   "execution_count": null,
   "metadata": {
    "colab": {
     "base_uri": "https://localhost:8080/",
     "height": 283
    },
    "executionInfo": {
     "elapsed": 1144,
     "status": "ok",
     "timestamp": 1621316965716,
     "user": {
      "displayName": "NAVY_LIGHTS Q",
      "photoUrl": "https://lh3.googleusercontent.com/a-/AOh14Gi6Piv3pw8kuU3FwG96XJr1Utla0LhE59_h-rbnBQ=s64",
      "userId": "05414969994838022364"
     },
     "user_tz": -540
    },
    "id": "HoXDEqNABTE8",
    "outputId": "08681006-2bf1-4538-d568-f7a0c6acb496"
   },
   "outputs": [
    {
     "data": {
      "image/png": "[encoded data removed]",
      "text/plain": [
       "<Figure size 432x288 with 2 Axes>"
      ]
     },
     "metadata": {
      "needs_background": "light",
      "tags": []
     },
     "output_type": "display_data"
    }
   ],
   "source": [
    "# 문장의 길이 50, 임베딩 벡터의 차원 128\n",
    "sample_pos_encoding = PositionalEncoding(30000, 128)\n",
    "\n",
    "plt.pcolormesh(sample_pos_encoding.pos_encoding.numpy()[0][0:50, :], cmap='RdBu')\n",
    "plt.xlabel('Depth')\n",
    "plt.xlim((0, 128))\n",
    "plt.ylabel('Position')\n",
    "plt.colorbar()\n",
    "plt.show()"
   ]
  },
  {
   "cell_type": "code",
   "execution_count": null,
   "metadata": {
    "id": "n0fMRb0VCKR9"
   },
   "outputs": [],
   "source": [
    "myEnc = encoder(30000, 5, 256, 64, 8, 0.2)"
   ]
  },
  {
   "cell_type": "code",
   "execution_count": null,
   "metadata": {
    "colab": {
     "base_uri": "https://localhost:8080/"
    },
    "executionInfo": {
     "elapsed": 965,
     "status": "ok",
     "timestamp": 1621320004454,
     "user": {
      "displayName": "NAVY_LIGHTS Q",
      "photoUrl": "https://lh3.googleusercontent.com/a-/AOh14Gi6Piv3pw8kuU3FwG96XJr1Utla0LhE59_h-rbnBQ=s64",
      "userId": "05414969994838022364"
     },
     "user_tz": -540
    },
    "id": "OTOHYwvrCVAa",
    "outputId": "54e4b42f-24e7-4f15-d2f4-5475986faa37"
   },
   "outputs": [
    {
     "name": "stdout",
     "output_type": "stream",
     "text": [
      "Model: \"encoder\"\n",
      "__________________________________________________________________________________________________\n",
      "Layer (type)                    Output Shape         Param #     Connected to                     \n",
      "==================================================================================================\n",
      "inputs (InputLayer)             [(None, None)]       0                                            \n",
      "__________________________________________________________________________________________________\n",
      "embedding_2 (Embedding)         (None, None, 64)     1920000     inputs[0][0]                     \n",
      "__________________________________________________________________________________________________\n",
      "tf.math.multiply_1 (TFOpLambda) (None, None, 64)     0           embedding_2[0][0]                \n",
      "__________________________________________________________________________________________________\n",
      "positional_encoding_7 (Position (None, None, 64)     0           tf.math.multiply_1[0][0]         \n",
      "__________________________________________________________________________________________________\n",
      "dropout_23 (Dropout)            (None, None, 64)     0           positional_encoding_7[0][0]      \n",
      "__________________________________________________________________________________________________\n",
      "padding_mask (InputLayer)       [(None, 1, 1, None)] 0                                            \n",
      "__________________________________________________________________________________________________\n",
      "encoding_layer_0 (Functional)   (None, None, 64)     41664       dropout_23[0][0]                 \n",
      "                                                                 padding_mask[0][0]               \n",
      "__________________________________________________________________________________________________\n",
      "encoding_layer_1 (Functional)   (None, None, 64)     41664       encoding_layer_0[0][0]           \n",
      "                                                                 padding_mask[0][0]               \n",
      "__________________________________________________________________________________________________\n",
      "encoding_layer_2 (Functional)   (None, None, 64)     41664       encoding_layer_1[0][0]           \n",
      "                                                                 padding_mask[0][0]               \n",
      "__________________________________________________________________________________________________\n",
      "encoding_layer_3 (Functional)   (None, None, 64)     41664       encoding_layer_2[0][0]           \n",
      "                                                                 padding_mask[0][0]               \n",
      "__________________________________________________________________________________________________\n",
      "encoding_layer_4 (Functional)   (None, None, 64)     41664       encoding_layer_3[0][0]           \n",
      "                                                                 padding_mask[0][0]               \n",
      "==================================================================================================\n",
      "Total params: 2,128,320\n",
      "Trainable params: 2,128,320\n",
      "Non-trainable params: 0\n",
      "__________________________________________________________________________________________________\n"
     ]
    }
   ],
   "source": [
    "myEnc.summary()"
   ]
  },
  {
   "cell_type": "code",
   "execution_count": null,
   "metadata": {
    "id": "BxwR5fANCh5L"
   },
   "outputs": [],
   "source": [
    "input = tf.cast([1, 18, 0, 328, 18, 0, 530, 30, 0, 28, 8, 7], tf.float32)[tf.newaxis, :, tf.newaxis]\n",
    "padding = create_padding_mask(input)"
   ]
  },
  {
   "cell_type": "code",
   "execution_count": null,
   "metadata": {
    "id": "trbTBJGNEmOF"
   },
   "outputs": [],
   "source": [
    "input_padd = tf.cast(tf.random.uniform((1,20), 0, 10), dtype = tf.int32)\n",
    "input2 = tf.cast(tf.random.uniform((20, 64), 0, 1), dtype = tf.float32)[tf.newaxis, :, :]\n",
    "padding2 = create_padding_mask(input_padd)"
   ]
  },
  {
   "cell_type": "code",
   "execution_count": null,
   "metadata": {
    "id": "5izAlyPlRRfy"
   },
   "outputs": [],
   "source": [
    "output, attention = scaled_dot_product_attention(input2, input2, input2, padding2)"
   ]
  },
  {
   "cell_type": "code",
   "execution_count": null,
   "metadata": {
    "colab": {
     "base_uri": "https://localhost:8080/"
    },
    "executionInfo": {
     "elapsed": 547,
     "status": "ok",
     "timestamp": 1621321182369,
     "user": {
      "displayName": "NAVY_LIGHTS Q",
      "photoUrl": "https://lh3.googleusercontent.com/a-/AOh14Gi6Piv3pw8kuU3FwG96XJr1Utla0LhE59_h-rbnBQ=s64",
      "userId": "05414969994838022364"
     },
     "user_tz": -540
    },
    "id": "hHAG2-hkRVdA",
    "outputId": "d750fd26-251c-45f2-d642-eea4ccd87782"
   },
   "outputs": [
    {
     "data": {
      "text/plain": [
       "<tf.Tensor: shape=(1, 1, 20, 20), dtype=float32, numpy=\n",
       "array([[[[0.10741478, 0.05397733, 0.05206675, 0.06899861, 0.0627589 ,\n",
       "          0.04858591, 0.04928834, 0.04418971, 0.04677675, 0.05402303,\n",
       "          0.        , 0.04384105, 0.05827578, 0.0704679 , 0.05625313,\n",
       "          0.06692382, 0.        , 0.06140036, 0.        , 0.05475786],\n",
       "         [0.06196574, 0.10455815, 0.0510079 , 0.07531324, 0.05892237,\n",
       "          0.05501409, 0.06141714, 0.03449076, 0.03974986, 0.05896524,\n",
       "          0.        , 0.04718652, 0.04988979, 0.08168951, 0.0545571 ,\n",
       "          0.05481597, 0.        , 0.05587909, 0.        , 0.0545775 ],\n",
       "         [0.05487656, 0.04682994, 0.10644521, 0.06661148, 0.0687854 ,\n",
       "          0.04445849, 0.06448567, 0.04314173, 0.0442063 , 0.05209575,\n",
       "          0.        , 0.05737803, 0.0531351 , 0.06950404, 0.05807222,\n",
       "          0.05951608, 0.        , 0.06002566, 0.        , 0.05043237],\n",
       "         [0.06072005, 0.05773283, 0.05561789, 0.13259591, 0.06128354,\n",
       "          0.05002961, 0.04947325, 0.04037445, 0.04398176, 0.06106275,\n",
       "          0.        , 0.05326195, 0.05207659, 0.06683587, 0.05931296,\n",
       "          0.05825181, 0.        , 0.05732387, 0.        , 0.04006493],\n",
       "         [0.06221788, 0.05088384, 0.06470082, 0.06903858, 0.11392794,\n",
       "          0.04424155, 0.05616184, 0.04004671, 0.04274676, 0.05082877,\n",
       "          0.        , 0.04583925, 0.05551786, 0.08085585, 0.05498038,\n",
       "          0.06567187, 0.        , 0.05517191, 0.        , 0.04716814],\n",
       "         [0.06103118, 0.06019703, 0.05298705, 0.07141292, 0.05605726,\n",
       "          0.09958313, 0.05738765, 0.03927387, 0.0437067 , 0.05196146,\n",
       "          0.        , 0.04727533, 0.04743202, 0.08594155, 0.06050202,\n",
       "          0.0541026 , 0.        , 0.05330077, 0.        , 0.05784737],\n",
       "         [0.05471715, 0.05939209, 0.06792289, 0.06241054, 0.06288987,\n",
       "          0.05071732, 0.10618211, 0.04131919, 0.0374811 , 0.04618135,\n",
       "          0.        , 0.052355  , 0.05219952, 0.0796948 , 0.05119345,\n",
       "          0.06201642, 0.        , 0.06152073, 0.        , 0.05180654],\n",
       "         [0.06769113, 0.04602281, 0.06270205, 0.07027897, 0.06187818,\n",
       "          0.04789309, 0.0570142 , 0.08206269, 0.05053515, 0.05021923,\n",
       "          0.        , 0.05631128, 0.05656641, 0.06951459, 0.06461582,\n",
       "          0.054492  , 0.        , 0.05511783, 0.        , 0.04708448],\n",
       "         [0.06730435, 0.04982054, 0.06034912, 0.07191076, 0.06204067,\n",
       "          0.05006332, 0.04857872, 0.04746747, 0.0751527 , 0.05669798,\n",
       "          0.        , 0.05672487, 0.05022777, 0.07221217, 0.05328801,\n",
       "          0.07404444, 0.        , 0.0562034 , 0.        , 0.04791372],\n",
       "         [0.06066275, 0.0576765 , 0.05550332, 0.07791618, 0.0575722 ,\n",
       "          0.04644971, 0.0467122 , 0.03681311, 0.04424839, 0.09845112,\n",
       "          0.        , 0.0565838 , 0.0615909 , 0.07004499, 0.06552362,\n",
       "          0.0648854 , 0.        , 0.05239397, 0.        , 0.04697182],\n",
       "         [0.05810036, 0.05829868, 0.05754669, 0.08401706, 0.06961378,\n",
       "          0.05303477, 0.05238148, 0.03894237, 0.04673803, 0.05757023,\n",
       "          0.        , 0.05416682, 0.05320428, 0.07296903, 0.06616198,\n",
       "          0.06257995, 0.        , 0.06448119, 0.        , 0.05019331],\n",
       "         [0.05241634, 0.0491432 , 0.06508861, 0.07236207, 0.05528195,\n",
       "          0.04499651, 0.05638513, 0.04395118, 0.04713528, 0.0602469 ,\n",
       "          0.        , 0.09970295, 0.04611344, 0.07133465, 0.06087663,\n",
       "          0.06339809, 0.        , 0.06126415, 0.        , 0.05030285],\n",
       "         [0.06750303, 0.05033923, 0.05839696, 0.0685466 , 0.06486763,\n",
       "          0.04373864, 0.05446561, 0.04277433, 0.04043579, 0.06353436,\n",
       "          0.        , 0.04467627, 0.10142099, 0.0663746 , 0.05741456,\n",
       "          0.06500478, 0.        , 0.05849169, 0.        , 0.05201489],\n",
       "         [0.05855214, 0.05912585, 0.05479427, 0.06310579, 0.06776775,\n",
       "          0.05684774, 0.05964886, 0.03770655, 0.04170122, 0.05183051,\n",
       "          0.        , 0.0495754 , 0.04761219, 0.13246778, 0.05871728,\n",
       "          0.0560489 , 0.        , 0.05021749, 0.        , 0.05428025],\n",
       "         [0.05894962, 0.04980183, 0.05773994, 0.07063048, 0.05811686,\n",
       "          0.05047342, 0.04832473, 0.0442041 , 0.03881063, 0.06114896,\n",
       "          0.        , 0.05335796, 0.0519423 , 0.07405405, 0.11379657,\n",
       "          0.06509086, 0.        , 0.05517014, 0.        , 0.04838758],\n",
       "         [0.06587078, 0.04699795, 0.05558018, 0.0651523 , 0.0652006 ,\n",
       "          0.04239247, 0.05498439, 0.03501339, 0.05065139, 0.05687429,\n",
       "          0.        , 0.05219182, 0.055236  , 0.06639383, 0.0611361 ,\n",
       "          0.11586964, 0.        , 0.06220225, 0.        , 0.04825263],\n",
       "         [0.06373876, 0.04878586, 0.06386939, 0.07375851, 0.07140471,\n",
       "          0.04966295, 0.05611258, 0.04760639, 0.04575953, 0.05606557,\n",
       "          0.        , 0.05232167, 0.05984133, 0.07753379, 0.05974565,\n",
       "          0.05988397, 0.        , 0.06185723, 0.        , 0.05205199],\n",
       "         [0.06413358, 0.05084215, 0.05948744, 0.06803906, 0.05812899,\n",
       "          0.04432072, 0.05788377, 0.03758341, 0.04080037, 0.04873633,\n",
       "          0.        , 0.05352237, 0.05274405, 0.06312745, 0.0549901 ,\n",
       "          0.06600982, 0.        , 0.12089809, 0.        , 0.05875229],\n",
       "         [0.06091088, 0.05550509, 0.06300896, 0.07762361, 0.063274  ,\n",
       "          0.04690442, 0.05919516, 0.0370668 , 0.04161581, 0.05546011,\n",
       "          0.        , 0.05077733, 0.05540126, 0.07341982, 0.06175314,\n",
       "          0.0714481 , 0.        , 0.07322208, 0.        , 0.05341344],\n",
       "         [0.06640928, 0.0576575 , 0.0580317 , 0.05521473, 0.05770205,\n",
       "          0.05585017, 0.05659623, 0.03727773, 0.04038585, 0.05073137,\n",
       "          0.        , 0.05102573, 0.05445966, 0.07922691, 0.05599921,\n",
       "          0.0594554 , 0.        , 0.06821696, 0.        , 0.09575953]]]],\n",
       "      dtype=float32)>"
      ]
     },
     "execution_count": 179,
     "metadata": {
      "tags": []
     },
     "output_type": "execute_result"
    }
   ],
   "source": [
    "attention"
   ]
  },
  {
   "cell_type": "code",
   "execution_count": null,
   "metadata": {
    "colab": {
     "base_uri": "https://localhost:8080/"
    },
    "executionInfo": {
     "elapsed": 509,
     "status": "ok",
     "timestamp": 1621320007456,
     "user": {
      "displayName": "NAVY_LIGHTS Q",
      "photoUrl": "https://lh3.googleusercontent.com/a-/AOh14Gi6Piv3pw8kuU3FwG96XJr1Utla0LhE59_h-rbnBQ=s64",
      "userId": "05414969994838022364"
     },
     "user_tz": -540
    },
    "id": "pu16-TL8Met3",
    "outputId": "20f8547d-5fae-480e-e4b3-eaaeadce5297"
   },
   "outputs": [
    {
     "data": {
      "text/plain": [
       "<tf.Tensor: shape=(1, 20, 64), dtype=float32, numpy=\n",
       "array([[[-0.56689274, -0.9183379 , -0.86261666, ...,  0.583449  ,\n",
       "          0.9223816 ,  0.42043027],\n",
       "        [-1.0815585 , -0.85798925, -0.8748499 , ...,  1.0618385 ,\n",
       "          0.7853019 ,  0.44629073],\n",
       "        [-0.13030785, -0.3126183 , -1.2167197 , ...,  0.9333594 ,\n",
       "          0.9531389 , -0.3080056 ],\n",
       "        ...,\n",
       "        [ 1.8579004 ,  0.9429028 , -0.01095539, ..., -0.8986366 ,\n",
       "          1.1284063 ,  0.5920967 ],\n",
       "        [ 2.5367105 ,  1.5791864 ,  0.68594474, ...,  0.1117232 ,\n",
       "         -0.03781951, -0.40073907],\n",
       "        [ 1.7785149 ,  1.8217522 , -0.9503376 , ...,  0.63389844,\n",
       "         -0.2824579 , -0.12575142]]], dtype=float32)>"
      ]
     },
     "execution_count": 167,
     "metadata": {
      "tags": []
     },
     "output_type": "execute_result"
    }
   ],
   "source": [
    "myEnc([input_padd, padding2])"
   ]
  },
  {
   "cell_type": "code",
   "execution_count": null,
   "metadata": {
    "id": "teRAW0ETEKIs"
   },
   "outputs": [],
   "source": [
    "my_encode_layer = encoder_layer(256, 64, 8, 0.2)"
   ]
  },
  {
   "cell_type": "code",
   "execution_count": null,
   "metadata": {
    "colab": {
     "base_uri": "https://localhost:8080/"
    },
    "executionInfo": {
     "elapsed": 380,
     "status": "ok",
     "timestamp": 1621319855517,
     "user": {
      "displayName": "NAVY_LIGHTS Q",
      "photoUrl": "https://lh3.googleusercontent.com/a-/AOh14Gi6Piv3pw8kuU3FwG96XJr1Utla0LhE59_h-rbnBQ=s64",
      "userId": "05414969994838022364"
     },
     "user_tz": -540
    },
    "id": "pnZlIsafETI_",
    "outputId": "b154e8d3-2154-49a5-ceee-77837ce5a1c2"
   },
   "outputs": [
    {
     "data": {
      "text/plain": [
       "<tf.Tensor: shape=(1, 20, 64), dtype=float32, numpy=\n",
       "array([[[ 0.18531276, -0.17470454,  1.2781278 , ..., -1.2017483 ,\n",
       "          0.358448  ,  0.30908173],\n",
       "        [-0.41198194, -0.29326507, -0.07679467, ..., -0.67154527,\n",
       "         -0.15223838, -0.0392458 ],\n",
       "        [ 0.4287555 ,  1.6630363 , -0.2899906 , ..., -1.9569784 ,\n",
       "         -0.18131763,  1.2184677 ],\n",
       "        ...,\n",
       "        [-2.2448287 ,  1.0673614 , -0.5568974 , ...,  0.6937181 ,\n",
       "         -0.22324696, -0.5592787 ],\n",
       "        [ 0.74203646,  0.12143187,  0.17043741, ...,  0.9250108 ,\n",
       "         -0.15034546, -0.38669547],\n",
       "        [ 1.23434   , -0.42977098,  0.31257147, ...,  1.5177709 ,\n",
       "         -0.12250929, -0.4972128 ]]], dtype=float32)>"
      ]
     },
     "execution_count": 162,
     "metadata": {
      "tags": []
     },
     "output_type": "execute_result"
    }
   ],
   "source": [
    "my_encode_layer([input2, padding2])"
   ]
  },
  {
   "cell_type": "code",
   "execution_count": null,
   "metadata": {
    "id": "NsdiqHImH7cN"
   },
   "outputs": [],
   "source": [
    "my_mha = MultiHeadAttention(d_model = 64, num_head = 8)\n",
    "output = my_mha({'query' : input2, 'key' : input2, 'value' : input2, 'mask': padding2})"
   ]
  },
  {
   "cell_type": "code",
   "execution_count": null,
   "metadata": {
    "colab": {
     "base_uri": "https://localhost:8080/"
    },
    "executionInfo": {
     "elapsed": 786,
     "status": "ok",
     "timestamp": 1621320730132,
     "user": {
      "displayName": "NAVY_LIGHTS Q",
      "photoUrl": "https://lh3.googleusercontent.com/a-/AOh14Gi6Piv3pw8kuU3FwG96XJr1Utla0LhE59_h-rbnBQ=s64",
      "userId": "05414969994838022364"
     },
     "user_tz": -540
    },
    "id": "KAwF-GobMR89",
    "outputId": "fc459bf9-3b85-4ee9-bc4f-c56866e5b8f8"
   },
   "outputs": [
    {
     "data": {
      "text/plain": [
       "<tf.Tensor: shape=(1, 20, 64), dtype=float32, numpy=\n",
       "array([[[ 0.02596099, -0.18954545,  0.10265657, ...,  0.06904027,\n",
       "         -0.12526794,  0.15080036],\n",
       "        [ 0.02616859, -0.20332208,  0.10094622, ...,  0.06374037,\n",
       "         -0.12148902,  0.14625753],\n",
       "        [ 0.49893534, -0.22571662,  0.57093865, ...,  0.48565742,\n",
       "         -0.22054419, -0.4454599 ],\n",
       "        ...,\n",
       "        [ 0.38715363,  0.01514635,  1.0614694 , ...,  0.7392822 ,\n",
       "          0.32191187, -0.5422954 ],\n",
       "        [ 0.6380751 , -0.30788895,  0.72129184, ...,  0.28224212,\n",
       "          0.15393972, -0.61489105],\n",
       "        [ 0.6334094 , -0.31176805,  0.7632511 , ...,  0.2732637 ,\n",
       "          0.17699414, -0.6166239 ]]], dtype=float32)>"
      ]
     },
     "execution_count": 169,
     "metadata": {
      "tags": []
     },
     "output_type": "execute_result"
    }
   ],
   "source": [
    "output"
   ]
  }
 ],
 "metadata": {
  "colab": {
   "authorship_tag": "ABX9TyNIBamVziIqfXUVFbMybYyR",
   "collapsed_sections": [],
   "name": "Transformer_Encoder.ipynb",
   "provenance": []
  },
  "kernelspec": {
   "display_name": "Python 3",
   "language": "python",
   "name": "python3"
  },
  "language_info": {
   "codemirror_mode": {
    "name": "ipython",
    "version": 3
   },
   "file_extension": ".py",
   "mimetype": "text/x-python",
   "name": "python",
   "nbconvert_exporter": "python",
   "pygments_lexer": "ipython3",
   "version": "3.7.0"
  }
 },
 "nbformat": 4,
 "nbformat_minor": 1
}
